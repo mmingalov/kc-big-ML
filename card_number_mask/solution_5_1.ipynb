{
 "cells": [
  {
   "cell_type": "code",
   "execution_count": 13,
   "id": "f214214a-e1f6-49c7-bfbb-a81de0b79282",
   "metadata": {},
   "outputs": [],
   "source": [
    "import pandas as pd\n",
    "from pyspark.sql import SparkSession\n",
    "from pyspark.sql.functions import pandas_udf\n",
    "from pyspark.sql.types import StringType\n"
   ]
  },
  {
   "cell_type": "code",
   "execution_count": 14,
   "id": "a688857a-3b3d-4310-9e79-13a6f4d1231c",
   "metadata": {},
   "outputs": [],
   "source": [
    "@pandas_udf(\"string\")\n",
    "def card_number_mask(s: pd.Series) -> pd.Series:\n",
    "    ss = s.str.slice_replace(start=4,stop=12, repl='XXXXXXXX')\n",
    "    return ss"
   ]
  },
  {
   "cell_type": "code",
   "execution_count": 15,
   "id": "9b7c174f-e7c7-4388-8048-c50cc2f8f278",
   "metadata": {},
   "outputs": [
    {
     "name": "stdout",
     "output_type": "stream",
     "text": [
      "+---+----------------+\n",
      "| id|     card_number|\n",
      "+---+----------------+\n",
      "|  1|4042654376478743|\n",
      "|  2|4042652276478747|\n",
      "+---+----------------+\n",
      "\n",
      "+---+----------------+----------------+\n",
      "|id |card_number     |hidden          |\n",
      "+---+----------------+----------------+\n",
      "|1  |4042654376478743|4042XXXXXXXX8743|\n",
      "|2  |4042652276478747|4042XXXXXXXX8747|\n",
      "+---+----------------+----------------+\n",
      "\n"
     ]
    }
   ],
   "source": [
    "if __name__ == \"__main__\":\n",
    "    spark = SparkSession.builder.appName('PySparkUDF').getOrCreate()\n",
    "    df = spark.createDataFrame([(1, \"4042654376478743\"), (2, \"4042652276478747\")], [\"id\", \"card_number\"])\n",
    "    df.show()\n",
    "    dfr = df.withColumn(\"hidden\", card_number_mask(\"card_number\"))\n",
    "    dfr.show(truncate=False)"
   ]
  },
  {
   "cell_type": "code",
   "execution_count": 4,
   "id": "cb425365-ff1e-4772-b511-67c8d6eda8c0",
   "metadata": {},
   "outputs": [],
   "source": [
    "@pandas_udf(\"string\")\n",
    "def to_upper(s: pd.Series) -> pd.Series:\n",
    "    return s.str.upper()\n",
    "\n"
   ]
  },
  {
   "cell_type": "code",
   "execution_count": 5,
   "id": "c6d5ebcd-7dab-41c4-a055-1760c9dd467b",
   "metadata": {},
   "outputs": [
    {
     "name": "stderr",
     "output_type": "stream",
     "text": [
      "                                                                                \r"
     ]
    },
    {
     "name": "stdout",
     "output_type": "stream",
     "text": [
      "+--------------+\n",
      "|to_upper(name)|\n",
      "+--------------+\n",
      "|      JOHN DOE|\n",
      "+--------------+\n",
      "\n"
     ]
    }
   ],
   "source": [
    "df = spark.createDataFrame([(\"John Doe\",)], (\"name\",))\n",
    "df.select(to_upper(\"name\")).show()"
   ]
  },
  {
   "cell_type": "code",
   "execution_count": null,
   "id": "4628bc4f-8aeb-4da9-9d03-f0a56d20ac0a",
   "metadata": {},
   "outputs": [],
   "source": []
  }
 ],
 "metadata": {
  "kernelspec": {
   "display_name": "Python 3 (ipykernel)",
   "language": "python",
   "name": "python3"
  },
  "language_info": {
   "codemirror_mode": {
    "name": "ipython",
    "version": 3
   },
   "file_extension": ".py",
   "mimetype": "text/x-python",
   "name": "python",
   "nbconvert_exporter": "python",
   "pygments_lexer": "ipython3",
   "version": "3.8.10"
  }
 },
 "nbformat": 4,
 "nbformat_minor": 5
}
