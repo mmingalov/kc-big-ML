{
 "cells": [
  {
   "cell_type": "code",
   "execution_count": 1,
   "id": "bb768988-1832-485c-975f-45d2f423c4f0",
   "metadata": {},
   "outputs": [],
   "source": [
    "from pyspark.ml.evaluation import RegressionEvaluator\n",
    "from pyspark.ml.feature import VectorAssembler, StringIndexer\n",
    "from pyspark.ml.tuning import ParamGridBuilder, TrainValidationSplit\n",
    "from pyspark.sql import SparkSession, DataFrame\n",
    "from pyspark.ml.regression import RandomForestRegressor, RandomForestRegressionModel\n",
    "from pyspark.sql.types import IntegerType"
   ]
  },
  {
   "cell_type": "code",
   "execution_count": 2,
   "id": "89a4c300-0288-4ab6-94e1-07ea108d2da8",
   "metadata": {},
   "outputs": [],
   "source": [
    "def vector_assembler() -> VectorAssembler:\n",
    "    features = ['age','sex_index','married_index','salary',\n",
    "                'successfully_credit_completed','credit_completed_amount','active_credits','active_credits_amount']\n",
    "    feature = VectorAssembler(inputCols=features, outputCol=\"features\")\n",
    "    return feature"
   ]
  },
  {
   "cell_type": "code",
   "execution_count": 3,
   "id": "12ab0db1-fc7b-423d-9de4-b143c159f611",
   "metadata": {},
   "outputs": [],
   "source": [
    "def model_params(rf):\n",
    "    return ParamGridBuilder() \\\n",
    "        .addGrid(rf.maxDepth, [2, 3, 4, 5]) \\\n",
    "        .addGrid(rf.maxBins, [2, 3, 4]) \\\n",
    "        .build()"
   ]
  },
  {
   "cell_type": "code",
   "execution_count": 4,
   "id": "44640b8d-10d9-4e6e-a00a-f3e77fe6f690",
   "metadata": {},
   "outputs": [],
   "source": [
    "def prepare_data(df: DataFrame, assembler) -> DataFrame:\n",
    "    df=df.withColumn('married_index', df.married.cast(IntegerType()))\n",
    "    \n",
    "    # df=df.withColumn('sex_index', df.sex.cast(StringIndexer()))\n",
    "    sex_index = StringIndexer(inputCol='sex', outputCol=\"sex_index\")\n",
    "    df = sex_index.fit(df).transform(df)\n",
    "    \n",
    "    df = assembler.transform(df)\n",
    "    return df"
   ]
  },
  {
   "cell_type": "code",
   "execution_count": 5,
   "id": "cfe41ca4-5dff-49c4-9222-e13f0b720b6d",
   "metadata": {},
   "outputs": [],
   "source": [
    "def build_random_forest() -> RandomForestRegressor:\n",
    "    rf = RandomForestRegressor(labelCol=\"credit_amount\", featuresCol=\"features\")\n",
    "    return rf"
   ]
  },
  {
   "cell_type": "code",
   "execution_count": 6,
   "id": "f6330882-2db2-47e6-ae9b-178bf596a180",
   "metadata": {},
   "outputs": [],
   "source": [
    "def build_evaluator() -> RegressionEvaluator:\n",
    "    evaluator = RegressionEvaluator(labelCol=\"credit_amount\", predictionCol=\"prediction\", metricName=\"rmse\")\n",
    "    return evaluator"
   ]
  },
  {
   "cell_type": "code",
   "execution_count": 7,
   "id": "38181450-e118-4805-a24c-86364f5bf53f",
   "metadata": {},
   "outputs": [],
   "source": [
    "def build_tvs(rand_forest, evaluator, model_params) -> TrainValidationSplit:\n",
    "    tvs = TrainValidationSplit(estimator=rand_forest,\n",
    "            estimatorParamMaps=model_params,\n",
    "            evaluator=evaluator,\n",
    "            trainRatio=0.8)\n",
    "    return tvs"
   ]
  },
  {
   "cell_type": "code",
   "execution_count": 8,
   "id": "a302c4fd-fe78-4d6f-9754-713a3e10b99b",
   "metadata": {},
   "outputs": [],
   "source": [
    "def train_model(train_df, test_df) -> (RandomForestRegressionModel, float):\n",
    "    assembler = vector_assembler()\n",
    "    train_pdf = prepare_data(train_df, assembler)\n",
    "    test_pdf = prepare_data(test_df, assembler)\n",
    "    rf = build_random_forest()\n",
    "    evaluator = build_evaluator()\n",
    "    tvs = build_tvs(rf, evaluator, model_params(rf))\n",
    "    models = tvs.fit(train_pdf)\n",
    "    best = models.bestModel\n",
    "    predictions = best.transform(test_pdf)\n",
    "    rmse = evaluator.evaluate(predictions)\n",
    "    print(f\"RMSE: {rmse}\")\n",
    "    print(f'Model maxDepth: {best._java_obj.getMaxDepth()}')\n",
    "    print(f'Model maxBins: {best._java_obj.getMaxBins()}')\n",
    "    return best, rmse"
   ]
  },
  {
   "cell_type": "markdown",
   "id": "8aef5b4a-727d-49b7-8ced-d3973479b79a",
   "metadata": {},
   "source": [
    "if __name__ == \"__main__\":\n",
    "    spark = SparkSession.builder.appName('PySparkMLJob').getOrCreate()\n",
    "    train_df = spark.read.parquet(\"train.parquet\")\n",
    "    test_df = spark.read.parquet(\"test.parquet\")\n",
    "    train_model(train_df, test_df)"
   ]
  },
  {
   "cell_type": "code",
   "execution_count": 9,
   "id": "9d1d329a-67aa-41cb-a0ce-6bedee2254d2",
   "metadata": {},
   "outputs": [
    {
     "name": "stderr",
     "output_type": "stream",
     "text": [
      "WARNING: An illegal reflective access operation has occurred\n",
      "WARNING: Illegal reflective access by org.apache.spark.unsafe.Platform (file:/nfs/env/lib/python3.8/site-packages/pyspark/jars/spark-unsafe_2.12-3.1.2.jar) to constructor java.nio.DirectByteBuffer(long,int)\n",
      "WARNING: Please consider reporting this to the maintainers of org.apache.spark.unsafe.Platform\n",
      "WARNING: Use --illegal-access=warn to enable warnings of further illegal reflective access operations\n",
      "WARNING: All illegal access operations will be denied in a future release\n",
      "22/09/18 23:19:04 WARN NativeCodeLoader: Unable to load native-hadoop library for your platform... using builtin-java classes where applicable\n",
      "Using Spark's default log4j profile: org/apache/spark/log4j-defaults.properties\n",
      "Setting default log level to \"WARN\".\n",
      "To adjust logging level use sc.setLogLevel(newLevel). For SparkR, use setLogLevel(newLevel).\n",
      "22/09/18 23:19:06 WARN Utils: Service 'SparkUI' could not bind on port 4040. Attempting port 4041.\n",
      "                                                                                \r"
     ]
    }
   ],
   "source": [
    "#test\n",
    "spark = SparkSession.builder.appName('PySparkMLJob').getOrCreate()\n",
    "train_df = spark.read.parquet(\"train.parquet\")\n",
    "test_df = spark.read.parquet(\"test.parquet\")\n",
    "# train_df=train_df.withColumn(\"married_index\", train_df.married.cast(IntegerType()))\n",
    "# train_df=train_df.withColumn(\"sex_index\", train_df.sex.cast(IntegerType()))\n",
    "# test_df=test_df.withColumn(\"married_index\", test_df.married.cast(IntegerType()))\n",
    "# test_df=test_df.withColumn(\"sex_index\", test_df.sex.cast(IntegerType()))"
   ]
  },
  {
   "cell_type": "code",
   "execution_count": 10,
   "id": "ad5fb89f-7938-472d-a6b3-fea41af4c0bf",
   "metadata": {},
   "outputs": [
    {
     "name": "stderr",
     "output_type": "stream",
     "text": [
      "                                                                                \r"
     ]
    }
   ],
   "source": [
    "#test\n",
    "assembler = vector_assembler()\n",
    "train_pdf = prepare_data(train_df, assembler)\n",
    "test_pdf = prepare_data(test_df, assembler)"
   ]
  },
  {
   "cell_type": "code",
   "execution_count": 14,
   "id": "bd45ed46-ee4d-4bc9-be3d-771946ec12b3",
   "metadata": {},
   "outputs": [
    {
     "name": "stdout",
     "output_type": "stream",
     "text": [
      "root\n",
      " |-- client_id: string (nullable = true)\n",
      " |-- age: integer (nullable = true)\n",
      " |-- sex: string (nullable = true)\n",
      " |-- married: boolean (nullable = true)\n",
      " |-- salary: integer (nullable = true)\n",
      " |-- successfully_credit_completed: integer (nullable = true)\n",
      " |-- credit_completed_amount: integer (nullable = true)\n",
      " |-- active_credits: integer (nullable = true)\n",
      " |-- active_credits_amount: integer (nullable = true)\n",
      " |-- credit_amount: integer (nullable = true)\n",
      " |-- married_index: integer (nullable = true)\n",
      " |-- sex_index: double (nullable = false)\n",
      " |-- features: vector (nullable = true)\n",
      "\n"
     ]
    }
   ],
   "source": [
    "#test\n",
    "train_pdf.printSchema()"
   ]
  },
  {
   "cell_type": "code",
   "execution_count": 15,
   "id": "24a7b8f3-649c-4f75-b311-606dd0ea87ad",
   "metadata": {},
   "outputs": [],
   "source": [
    "rf = build_random_forest()\n",
    "evaluator = build_evaluator()\n",
    "tvs = build_tvs(rf, evaluator, model_params(rf))\n",
    "\n",
    "# accuracy = evaluator.evaluate(predictions)\n",
    "# print(f\"Accuracy: {accuracy}\")\n",
    "# print(f'Model maxDepth: {best._java_obj.getMaxDepth()}')\n",
    "# print(f'Model maxBins: {best._java_obj.getMaxBins()}')\n",
    "# return best, accuracy"
   ]
  },
  {
   "cell_type": "code",
   "execution_count": 17,
   "id": "69432456-fcd1-471e-ab6f-72957a092cea",
   "metadata": {},
   "outputs": [],
   "source": [
    "# rf.fit(train_pdf)"
   ]
  },
  {
   "cell_type": "code",
   "execution_count": 18,
   "id": "73944069-b86e-4be4-a72d-a10cc00c7ebd",
   "metadata": {},
   "outputs": [
    {
     "name": "stderr",
     "output_type": "stream",
     "text": [
      "                                                                                \r"
     ]
    }
   ],
   "source": [
    "models = tvs.fit(train_pdf)"
   ]
  },
  {
   "cell_type": "code",
   "execution_count": 19,
   "id": "5b11ccb6-cb4d-4717-bb0b-1ca76540539f",
   "metadata": {},
   "outputs": [],
   "source": [
    "best = models.bestModel"
   ]
  },
  {
   "cell_type": "code",
   "execution_count": 20,
   "id": "65a10d3a-5d2d-4557-aaa4-daa5132dc5de",
   "metadata": {},
   "outputs": [],
   "source": [
    "predictions = best.transform(test_pdf)"
   ]
  },
  {
   "cell_type": "code",
   "execution_count": 23,
   "id": "da136717-7fae-4ea5-984c-d71f28853cc5",
   "metadata": {},
   "outputs": [
    {
     "name": "stdout",
     "output_type": "stream",
     "text": [
      "RMSE: 517555.32255035394\n",
      "Model maxDepth: 5\n",
      "Model maxBins: 4\n"
     ]
    },
    {
     "name": "stderr",
     "output_type": "stream",
     "text": [
      "                                                                                \r"
     ]
    }
   ],
   "source": [
    "rmse = evaluator.evaluate(predictions)\n",
    "print(f\"RMSE: {rmse}\")\n",
    "print(f'Model maxDepth: {best._java_obj.getMaxDepth()}')\n",
    "print(f'Model maxBins: {best._java_obj.getMaxBins()}')"
   ]
  },
  {
   "cell_type": "code",
   "execution_count": null,
   "id": "24781fb9-4df5-474b-b2e5-9d2a3c829f10",
   "metadata": {},
   "outputs": [],
   "source": []
  }
 ],
 "metadata": {
  "kernelspec": {
   "display_name": "Python 3 (ipykernel)",
   "language": "python",
   "name": "python3"
  },
  "language_info": {
   "codemirror_mode": {
    "name": "ipython",
    "version": 3
   },
   "file_extension": ".py",
   "mimetype": "text/x-python",
   "name": "python",
   "nbconvert_exporter": "python",
   "pygments_lexer": "ipython3",
   "version": "3.8.10"
  }
 },
 "nbformat": 4,
 "nbformat_minor": 5
}
